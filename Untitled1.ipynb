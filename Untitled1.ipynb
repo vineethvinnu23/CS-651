{
  "nbformat": 4,
  "nbformat_minor": 0,
  "metadata": {
    "colab": {
      "provenance": []
    },
    "kernelspec": {
      "name": "python3",
      "display_name": "Python 3"
    },
    "language_info": {
      "name": "python"
    }
  },
  "cells": [
    {
      "cell_type": "code",
      "execution_count": 2,
      "metadata": {
        "colab": {
          "base_uri": "https://localhost:8080/"
        },
        "id": "8POVcUeATBL5",
        "outputId": "26611eb8-6b03-434d-d073-3d4ec2e31d5e"
      },
      "outputs": [
        {
          "output_type": "stream",
          "name": "stdout",
          "text": [
            "<class 'pandas.core.frame.DataFrame'>\n",
            "RangeIndex: 2429 entries, 0 to 2428\n",
            "Data columns (total 5 columns):\n",
            " #   Column        Non-Null Count  Dtype  \n",
            "---  ------        --------------  -----  \n",
            " 0   Name          2429 non-null   object \n",
            " 1   Mileage       2429 non-null   object \n",
            " 2   Rating        2135 non-null   float64\n",
            " 3   Review Count  2398 non-null   object \n",
            " 4   Price         2429 non-null   object \n",
            "dtypes: float64(1), object(4)\n",
            "memory usage: 95.0+ KB\n"
          ]
        }
      ],
      "source": [
        "import pandas as pd\n",
        "df = pd.read_csv(r\"usa_mercedes_benz_prices.csv\")\n",
        "df.info()"
      ]
    },
    {
      "cell_type": "code",
      "source": [],
      "metadata": {
        "id": "d8aKMLjsUJyq"
      },
      "execution_count": null,
      "outputs": []
    }
  ]
}